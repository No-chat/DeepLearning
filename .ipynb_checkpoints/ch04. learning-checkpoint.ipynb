{
 "cells": [
  {
   "cell_type": "code",
   "execution_count": 2,
   "id": "7ceda494",
   "metadata": {},
   "outputs": [],
   "source": [
    "# \"학습\"한다는 의미는 올바른 가중치 값 (+ bias)을 찾는 것\n",
    "# 신경망 학습에 사용하는 지표는 손실 함수\n",
    "import numpy as np\n",
    "import matplotlib.pyplot as plt\n",
    "\n",
    "# 손글씨를 0 - 9까지 추정한 data를 y라 가정하고 정답은 t라고 가정하자\n",
    "t = np.array([0, 0, 1, 0, 0, 0, 0, 0, 0, 0])\n",
    "# 2가 정답이라고 추정한 dataset\n",
    "y1 = np.array([0.1, 0.05, 0.6, 0.0, 0.05, 0.1, 0.0, 0.1, 0.0, 0.0])\n",
    "# 7이 정답이라고 추정한 dataset\n",
    "y2 = np.array([0.1, 0.05, 0.1, 0.0, 0.05, 0.1, 0.0, 0.6, 0.0, 0.0])"
   ]
  },
  {
   "cell_type": "code",
   "execution_count": 5,
   "id": "388885ec",
   "metadata": {},
   "outputs": [
    {
     "name": "stdout",
     "output_type": "stream",
     "text": [
      "0.09750000000000003\n",
      "0.5975\n"
     ]
    }
   ],
   "source": [
    "# 손실 함수 - 오차 제곱합\n",
    "def sum_squares_error(y, t):\n",
    "    return 0.5 * np.sum((y - t)**2)\n",
    "\n",
    "print(sum_squares_error(y1, t)) # 0.0975\n",
    "\n",
    "print(sum_squares_error(y2, t)) # 0.5975\n",
    "\n",
    "# 정답인 2로 추정했을 때 오차제곱합이 매우 작은 것을 확인할 수 있다."
   ]
  },
  {
   "cell_type": "code",
   "execution_count": null,
   "id": "20db32e5",
   "metadata": {},
   "outputs": [],
   "source": []
  }
 ],
 "metadata": {
  "kernelspec": {
   "display_name": "Python 3 (ipykernel)",
   "language": "python",
   "name": "python3"
  },
  "language_info": {
   "codemirror_mode": {
    "name": "ipython",
    "version": 3
   },
   "file_extension": ".py",
   "mimetype": "text/x-python",
   "name": "python",
   "nbconvert_exporter": "python",
   "pygments_lexer": "ipython3",
   "version": "3.10.8"
  }
 },
 "nbformat": 4,
 "nbformat_minor": 5
}
