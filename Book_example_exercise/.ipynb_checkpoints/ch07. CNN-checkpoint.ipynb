{
 "cells": [
  {
   "cell_type": "code",
   "execution_count": 2,
   "id": "c93c113b",
   "metadata": {
    "ExecuteTime": {
     "end_time": "2023-01-16T04:28:13.391374Z",
     "start_time": "2023-01-16T04:28:13.374378Z"
    }
   },
   "outputs": [],
   "source": [
    "import numpy as np"
   ]
  },
  {
   "cell_type": "code",
   "execution_count": 22,
   "id": "76040966",
   "metadata": {
    "ExecuteTime": {
     "end_time": "2023-01-16T05:29:25.103533Z",
     "start_time": "2023-01-16T05:29:25.089531Z"
    }
   },
   "outputs": [
    {
     "name": "stdout",
     "output_type": "stream",
     "text": [
      "(5, 1, 7, 7)\n"
     ]
    }
   ],
   "source": [
    "# 4차원 데이터 형성 => 5개의 데이터 1채널 28x28형태\n",
    "x = np.random.rand(5, 1, 7, 7)\n",
    "print(x.shape)\n"
   ]
  },
  {
   "cell_type": "code",
   "execution_count": 4,
   "id": "14e2c050",
   "metadata": {
    "ExecuteTime": {
     "end_time": "2023-01-16T04:28:14.295340Z",
     "start_time": "2023-01-16T04:28:14.272379Z"
    }
   },
   "outputs": [
    {
     "name": "stdout",
     "output_type": "stream",
     "text": [
      "(10, 1, 3, 3, 5, 5)\n"
     ]
    }
   ],
   "source": [
    "y = np.zeros((10, 1, 3, 3, 5, 5))\n",
    "print(y.shape)"
   ]
  },
  {
   "cell_type": "code",
   "execution_count": 5,
   "id": "aab163da",
   "metadata": {
    "ExecuteTime": {
     "end_time": "2023-01-16T04:28:14.747339Z",
     "start_time": "2023-01-16T04:28:14.726343Z"
    }
   },
   "outputs": [
    {
     "name": "stdout",
     "output_type": "stream",
     "text": [
      "(2, 3)\n"
     ]
    }
   ],
   "source": [
    "test = np.array([[1, 2, 3], [4, 5, 6]])\n",
    "print(test.shape)"
   ]
  },
  {
   "cell_type": "code",
   "execution_count": 31,
   "id": "ac6768a7",
   "metadata": {
    "ExecuteTime": {
     "end_time": "2023-01-16T06:40:30.012320Z",
     "start_time": "2023-01-16T06:40:29.987362Z"
    }
   },
   "outputs": [],
   "source": [
    "# 합성곱 계층에서 합성곱 연산을 빠르게 하기 위해 데이터를 2차원 행렬 형태로 나타내주는 함수 im2col\n",
    "def im2col(input_data, filter_h, filter_w, stride=1, pad=0):\n",
    "    \"\"\"다수의 이미지를 입력받아 2차원 배열로 변환한다(평탄화).\n",
    "    \n",
    "    Parameters\n",
    "    ----------\n",
    "    input_data : 4차원 배열 형태의 입력 데이터(이미지 수, 채널 수, 높이, 너비)\n",
    "    filter_h : 필터의 높이\n",
    "    filter_w : 필터의 너비\n",
    "    stride : 스트라이드\n",
    "    pad : 패딩\n",
    "    \n",
    "    Returns\n",
    "    -------\n",
    "    col : 2차원 배열\n",
    "    \"\"\"\n",
    "    N, C, H, W = input_data.shape\n",
    "    out_h = (H + 2*pad - filter_h)//stride + 1\n",
    "    out_w = (W + 2*pad - filter_w)//stride + 1\n",
    "    \n",
    "    # padding\n",
    "    img = np.pad(input_data, [(0,0), (0,0), (pad, pad), (pad, pad)], 'constant')\n",
    "    col = np.zeros((N, C, filter_h, filter_w, out_h, out_w))\n",
    "\n",
    "    for y in range(filter_h):\n",
    "        y_max = y + stride*out_h\n",
    "        for x in range(filter_w):\n",
    "            x_max = x + stride*out_w\n",
    "            col[:, :, y, x, :, :] = img[:, :, y:y_max:stride, x:x_max:stride]\n",
    "    \n",
    "    # reshape할때 데이터의 원하는 정렬을 위해 transpose를 취해준다\n",
    "    col = col.transpose(0, 4, 5, 1, 2, 3).reshape(N*out_h*out_w, -1)\n",
    "    \n",
    "    return col"
   ]
  },
  {
   "cell_type": "code",
   "execution_count": 34,
   "id": "61d940fd",
   "metadata": {
    "ExecuteTime": {
     "end_time": "2023-01-16T06:40:40.682138Z",
     "start_time": "2023-01-16T06:40:40.662109Z"
    }
   },
   "outputs": [
    {
     "name": "stdout",
     "output_type": "stream",
     "text": [
      "(125, 9)\n"
     ]
    }
   ],
   "source": [
    "col = im2col(x, 3, 3, stride=1, pad=0)\n",
    "print(col.shape)"
   ]
  },
  {
   "cell_type": "code",
   "execution_count": 35,
   "id": "7b3c0a11",
   "metadata": {
    "ExecuteTime": {
     "end_time": "2023-01-16T10:59:27.177358Z",
     "start_time": "2023-01-16T10:59:27.162360Z"
    }
   },
   "outputs": [],
   "source": [
    "class Convolution:\n",
    "    def __init__(self, W, b, stride=1, pad=0):\n",
    "        self.W = W\n",
    "        self.b = b\n",
    "        self.stride = stride\n",
    "        self.pad = pad\n",
    "        \n",
    "    def forward(self, input_data):\n",
    "        FN, C, FH, FW = self.W.shape\n",
    "        N, C, H, W = input_data.shape\n",
    "        \n",
    "        out_h = (H - FH + 2*pad) / self.stride + 1\n",
    "        out_w = (W - FW + 2*pad) / self.stride + 1\n",
    "        \n",
    "        input_col = im2col(input_data, FH, FW, self.stride, self.pad) # (out_h*out_w*1) x (C*FH*FW) 형태의 2차원 배열\n",
    "        f_col = self.W.reshape(FN, -1).T # (C*FH*FW) x FN 형태의 2차원 배열\n",
    "        \n",
    "        output_col = np.dot(input_col, f_col) + self.b # (out_h*out_w*1) x FN 형태의 2차원 배열\n",
    "        out = output_col.reshape(N, out_h, out_w, -1).transpose(0, 3, 1, 2)\n",
    "        \n",
    "        return out\n",
    "    "
   ]
  },
  {
   "cell_type": "code",
   "execution_count": null,
   "id": "fcd8a64e",
   "metadata": {},
   "outputs": [],
   "source": [
    "class Pooling:\n",
    "    def __init__(self, pool_h, pool_w, stride=1, pad=0):\n",
    "        self.pool_h = pool_h\n",
    "        self.pool_w = pool_w\n",
    "        self.stride = stride\n",
    "        self.pad = pad\n",
    "        \n",
    "        # 역전파에 사용\n",
    "        self.db = None\n",
    "        self.out = None\n",
    "        \n",
    "        \n",
    "        \n",
    "    def forward(self, input_data):\n",
    "        N, C, H, W = input_data.shape\n",
    "        out_h = int(1 + (H - self.pool_h) / self.stride)\n",
    "        out_w = int(1 + (W - self.pool_w) / self.stride)\n",
    "\n",
    "        # 전개\n",
    "        col = im2col(input_data, self.pool_h, self.pool_w, self.stride, self.pad)\n",
    "        col = col.reshape(-1, self.pool_h * self.pool_w)\n",
    "        # 최대값을 뽑아낸 뒤 4차원 데이터 형태로 변형\n",
    "        out = np.max(col, axis=1)\n",
    "        self.out = out\n",
    "        out = out.reshape(N, out_h, out_w, C).transpose(0, 3, 1, 2)\n",
    "        \n",
    "        return out\n",
    "    \n",
    "    def backward(self, dout):\n",
    "        \n",
    "        "
   ]
  }
 ],
 "metadata": {
  "kernelspec": {
   "display_name": "Python 3 (ipykernel)",
   "language": "python",
   "name": "python3"
  },
  "language_info": {
   "codemirror_mode": {
    "name": "ipython",
    "version": 3
   },
   "file_extension": ".py",
   "mimetype": "text/x-python",
   "name": "python",
   "nbconvert_exporter": "python",
   "pygments_lexer": "ipython3",
   "version": "3.10.8"
  },
  "toc": {
   "base_numbering": 1,
   "nav_menu": {},
   "number_sections": true,
   "sideBar": true,
   "skip_h1_title": false,
   "title_cell": "Table of Contents",
   "title_sidebar": "Contents",
   "toc_cell": false,
   "toc_position": {},
   "toc_section_display": true,
   "toc_window_display": false
  },
  "varInspector": {
   "cols": {
    "lenName": 16,
    "lenType": 16,
    "lenVar": 40
   },
   "kernels_config": {
    "python": {
     "delete_cmd_postfix": "",
     "delete_cmd_prefix": "del ",
     "library": "var_list.py",
     "varRefreshCmd": "print(var_dic_list())"
    },
    "r": {
     "delete_cmd_postfix": ") ",
     "delete_cmd_prefix": "rm(",
     "library": "var_list.r",
     "varRefreshCmd": "cat(var_dic_list()) "
    }
   },
   "types_to_exclude": [
    "module",
    "function",
    "builtin_function_or_method",
    "instance",
    "_Feature"
   ],
   "window_display": false
  }
 },
 "nbformat": 4,
 "nbformat_minor": 5
}
