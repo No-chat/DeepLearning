{
 "cells": [
  {
   "cell_type": "code",
   "execution_count": 1,
   "id": "8610ebc0",
   "metadata": {
    "ExecuteTime": {
     "end_time": "2023-01-05T05:27:13.803696Z",
     "start_time": "2023-01-05T05:27:13.787696Z"
    }
   },
   "outputs": [],
   "source": [
    "import numpy as np"
   ]
  },
  {
   "cell_type": "code",
   "execution_count": 2,
   "id": "6a9b6f71",
   "metadata": {
    "ExecuteTime": {
     "end_time": "2023-01-05T05:28:32.656840Z",
     "start_time": "2023-01-05T05:28:32.638206Z"
    }
   },
   "outputs": [
    {
     "name": "stdout",
     "output_type": "stream",
     "text": [
      "[99  1  2  3  4  5  6  7  8  9]\n"
     ]
    }
   ],
   "source": [
    "# Numpy 배열 객체 복사\n",
    "array1 = np.arange(10)\n",
    "# 2에 1을 할당하면 같은 주소에 있는 배열을 가리킴\n",
    "array2 = array1\n",
    "# 2의 값을 변경하면 1에도 영향을 미친다\n",
    "array2[0] = 99\n",
    "print(array1)"
   ]
  },
  {
   "cell_type": "code",
   "execution_count": 3,
   "id": "3a753b0f",
   "metadata": {
    "ExecuteTime": {
     "end_time": "2023-01-05T05:29:24.954021Z",
     "start_time": "2023-01-05T05:29:24.935151Z"
    }
   },
   "outputs": [
    {
     "name": "stdout",
     "output_type": "stream",
     "text": [
      "[99  1  2  3  4  5  6  7  8  9]\n"
     ]
    }
   ],
   "source": [
    "# 기존의 배열 객체를 참조하지 않는 동일한 형태의 배열을 할당하고 싶다면 copy()사용\n",
    "array3 = array2.copy()\n",
    "# 2의 값을 변경해도 3에 영향을 끼치지 않는다\n",
    "array2[0] = 0\n",
    "print(array3)"
   ]
  },
  {
   "cell_type": "code",
   "execution_count": null,
   "id": "f85f2529",
   "metadata": {},
   "outputs": [],
   "source": []
  }
 ],
 "metadata": {
  "kernelspec": {
   "display_name": "Python 3 (ipykernel)",
   "language": "python",
   "name": "python3"
  },
  "language_info": {
   "codemirror_mode": {
    "name": "ipython",
    "version": 3
   },
   "file_extension": ".py",
   "mimetype": "text/x-python",
   "name": "python",
   "nbconvert_exporter": "python",
   "pygments_lexer": "ipython3",
   "version": "3.10.8"
  },
  "toc": {
   "base_numbering": 1,
   "nav_menu": {},
   "number_sections": true,
   "sideBar": true,
   "skip_h1_title": false,
   "title_cell": "Table of Contents",
   "title_sidebar": "Contents",
   "toc_cell": false,
   "toc_position": {},
   "toc_section_display": true,
   "toc_window_display": false
  },
  "varInspector": {
   "cols": {
    "lenName": 16,
    "lenType": 16,
    "lenVar": 40
   },
   "kernels_config": {
    "python": {
     "delete_cmd_postfix": "",
     "delete_cmd_prefix": "del ",
     "library": "var_list.py",
     "varRefreshCmd": "print(var_dic_list())"
    },
    "r": {
     "delete_cmd_postfix": ") ",
     "delete_cmd_prefix": "rm(",
     "library": "var_list.r",
     "varRefreshCmd": "cat(var_dic_list()) "
    }
   },
   "types_to_exclude": [
    "module",
    "function",
    "builtin_function_or_method",
    "instance",
    "_Feature"
   ],
   "window_display": false
  }
 },
 "nbformat": 4,
 "nbformat_minor": 5
}
