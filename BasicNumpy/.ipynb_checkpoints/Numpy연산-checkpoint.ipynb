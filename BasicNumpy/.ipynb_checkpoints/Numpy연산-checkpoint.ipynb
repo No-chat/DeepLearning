{
 "cells": [
  {
   "cell_type": "code",
   "execution_count": 1,
   "id": "72ce31ff",
   "metadata": {},
   "outputs": [],
   "source": [
    "import numpy as np"
   ]
  },
  {
   "cell_type": "code",
   "execution_count": 2,
   "id": "6c7d8427",
   "metadata": {
    "ExecuteTime": {
     "end_time": "2023-01-04T11:00:50.899888Z",
     "start_time": "2023-01-04T11:00:50.886610Z"
    }
   },
   "outputs": [],
   "source": [
    "# 브로드 캐스트\n",
    "# 넘파이 배열을 사용하면 형태가 다른 배열끼리도 연산할 수 있다.\n",
    "array1 = np.arange(4).reshape(2,2) # 2x2 matrix\n",
    "array2 = np.arange(2) # 1차원 vector\n",
    "\n",
    "array3 = array1 + array2"
   ]
  },
  {
   "cell_type": "code",
   "execution_count": 11,
   "id": "ff44b10f",
   "metadata": {
    "ExecuteTime": {
     "end_time": "2023-01-05T05:10:31.889502Z",
     "start_time": "2023-01-05T05:10:31.813187Z"
    }
   },
   "outputs": [
    {
     "name": "stdout",
     "output_type": "stream",
     "text": [
      "[[ 0  1  2  3]\n",
      " [ 4  5  6  7]\n",
      " [ 8  9 10 11]\n",
      " [12 13 14 15]]\n",
      "[[1. 1. 1.]]\n"
     ]
    },
    {
     "ename": "ValueError",
     "evalue": "operands could not be broadcast together with shapes (1,3) (4,4) ",
     "output_type": "error",
     "traceback": [
      "\u001b[1;31m---------------------------------------------------------------------------\u001b[0m",
      "\u001b[1;31mValueError\u001b[0m                                Traceback (most recent call last)",
      "Cell \u001b[1;32mIn[11], line 7\u001b[0m\n\u001b[0;32m      4\u001b[0m array2 \u001b[38;5;241m=\u001b[39m np\u001b[38;5;241m.\u001b[39mones((\u001b[38;5;241m1\u001b[39m, \u001b[38;5;241m3\u001b[39m))\n\u001b[0;32m      5\u001b[0m \u001b[38;5;28mprint\u001b[39m(array2)\n\u001b[1;32m----> 7\u001b[0m array3 \u001b[38;5;241m=\u001b[39m \u001b[43marray2\u001b[49m\u001b[43m \u001b[49m\u001b[38;5;241;43m+\u001b[39;49m\u001b[43m \u001b[49m\u001b[43marray1\u001b[49m\n\u001b[0;32m      8\u001b[0m \u001b[38;5;28mprint\u001b[39m(array3)\n",
      "\u001b[1;31mValueError\u001b[0m: operands could not be broadcast together with shapes (1,3) (4,4) "
     ]
    }
   ],
   "source": [
    "# 브로드 캐스트 연산을 수행하는데 두 배열의 행 또는 열의 수는 무조건 동일해야한다.\n",
    "array1 = np.arange(16).reshape(4, 4)\n",
    "print(array1)\n",
    "array2 = np.ones((1, 3))\n",
    "print(array2)\n",
    "\n",
    "array3 = array2 + array1 # 연산 에러\n",
    "print(array3)"
   ]
  },
  {
   "cell_type": "code",
   "execution_count": 15,
   "id": "b4dab591",
   "metadata": {
    "ExecuteTime": {
     "end_time": "2023-01-05T05:17:00.403425Z",
     "start_time": "2023-01-05T05:17:00.389992Z"
    }
   },
   "outputs": [
    {
     "name": "stdout",
     "output_type": "stream",
     "text": [
      "[[ 0  1  2  3]\n",
      " [ 4  5  6  7]\n",
      " [ 8  9 10 11]\n",
      " [12 13 14 15]]\n",
      "[[ True  True  True  True]\n",
      " [ True  True  True  True]\n",
      " [ True  True False False]\n",
      " [False False False False]]\n",
      "[[100 100 100 100]\n",
      " [100 100 100 100]\n",
      " [100 100  10  11]\n",
      " [ 12  13  14  15]]\n"
     ]
    }
   ],
   "source": [
    "# 마스킹 연산\n",
    "# @배열의 각 원소에 대하여 체크@\n",
    "array1 = np.arange(16).reshape(4, 4)\n",
    "print(array1)\n",
    "array2 = array1 < 10\n",
    "print(array2)\n",
    "\n",
    "array1[array2] = 100\n",
    "print(array1)"
   ]
  },
  {
   "cell_type": "code",
   "execution_count": 19,
   "id": "e83a6ec3",
   "metadata": {
    "ExecuteTime": {
     "end_time": "2023-01-05T05:21:13.562934Z",
     "start_time": "2023-01-05T05:21:13.542209Z"
    }
   },
   "outputs": [
    {
     "name": "stdout",
     "output_type": "stream",
     "text": [
      "[[ 0  1  2  3]\n",
      " [ 8  9 10 11]]\n"
     ]
    }
   ],
   "source": [
    "# 마스크 정의해서 씌우기\n",
    "# 마스크를 씌울 데이터의 shape을 고려해서 알맞는 마스크형태를 만들어야 한다.\n",
    "mask = np.array([1, 0, 1, 0], dtype=bool)\n",
    "array = np.arange(16).reshape(4, 4)\n",
    "print(array[mask])"
   ]
  },
  {
   "cell_type": "code",
   "execution_count": null,
   "id": "810be8f6",
   "metadata": {},
   "outputs": [],
   "source": []
  }
 ],
 "metadata": {
  "kernelspec": {
   "display_name": "Python 3 (ipykernel)",
   "language": "python",
   "name": "python3"
  },
  "language_info": {
   "codemirror_mode": {
    "name": "ipython",
    "version": 3
   },
   "file_extension": ".py",
   "mimetype": "text/x-python",
   "name": "python",
   "nbconvert_exporter": "python",
   "pygments_lexer": "ipython3",
   "version": "3.10.8"
  },
  "toc": {
   "base_numbering": 1,
   "nav_menu": {},
   "number_sections": true,
   "sideBar": true,
   "skip_h1_title": false,
   "title_cell": "Table of Contents",
   "title_sidebar": "Contents",
   "toc_cell": false,
   "toc_position": {
    "height": "calc(100% - 180px)",
    "left": "10px",
    "top": "150px",
    "width": "307.2px"
   },
   "toc_section_display": true,
   "toc_window_display": false
  },
  "varInspector": {
   "cols": {
    "lenName": 16,
    "lenType": 16,
    "lenVar": 40
   },
   "kernels_config": {
    "python": {
     "delete_cmd_postfix": "",
     "delete_cmd_prefix": "del ",
     "library": "var_list.py",
     "varRefreshCmd": "print(var_dic_list())"
    },
    "r": {
     "delete_cmd_postfix": ") ",
     "delete_cmd_prefix": "rm(",
     "library": "var_list.r",
     "varRefreshCmd": "cat(var_dic_list()) "
    }
   },
   "position": {
    "height": "340.85px",
    "left": "987px",
    "right": "20px",
    "top": "140px",
    "width": "418px"
   },
   "types_to_exclude": [
    "module",
    "function",
    "builtin_function_or_method",
    "instance",
    "_Feature"
   ],
   "window_display": false
  }
 },
 "nbformat": 4,
 "nbformat_minor": 5
}
