{
 "cells": [
  {
   "cell_type": "code",
   "execution_count": 1,
   "id": "f5221d0c",
   "metadata": {
    "ExecuteTime": {
     "end_time": "2023-01-16T05:40:18.085829Z",
     "start_time": "2023-01-16T05:40:18.079826Z"
    }
   },
   "outputs": [],
   "source": [
    "import numpy as np"
   ]
  },
  {
   "cell_type": "code",
   "execution_count": 2,
   "id": "dd7198c0",
   "metadata": {
    "ExecuteTime": {
     "end_time": "2023-01-16T05:41:15.087064Z",
     "start_time": "2023-01-16T05:41:15.074069Z"
    }
   },
   "outputs": [
    {
     "name": "stdout",
     "output_type": "stream",
     "text": [
      "(2, 3, 4)\n"
     ]
    }
   ],
   "source": [
    "# 3차원 배열 => 3x4행렬이 2개의 층(채널)으로 이루어짐\n",
    "# 2, 3, 4는 각각 axis = 0 1 2에 매칭된다.\n",
    "mat = np.arange(24).reshape(2,3,4)\n",
    "print(mat.shape)"
   ]
  },
  {
   "cell_type": "code",
   "execution_count": 4,
   "id": "9dedeb87",
   "metadata": {
    "ExecuteTime": {
     "end_time": "2023-01-16T05:43:10.464279Z",
     "start_time": "2023-01-16T05:43:10.453281Z"
    }
   },
   "outputs": [
    {
     "name": "stdout",
     "output_type": "stream",
     "text": [
      "(4, 3, 2)\n"
     ]
    }
   ],
   "source": [
    "# axis로 전치\n",
    "mat_t = mat.transpose(2, 1, 0) # 기존의 (2, 3, 4) -> (4, 3, 2)\n",
    "print(mat_t.shape)"
   ]
  },
  {
   "cell_type": "code",
   "execution_count": 22,
   "id": "baceab08",
   "metadata": {
    "ExecuteTime": {
     "end_time": "2023-01-16T11:34:55.058901Z",
     "start_time": "2023-01-16T11:34:55.051898Z"
    }
   },
   "outputs": [
    {
     "name": "stdout",
     "output_type": "stream",
     "text": [
      "(3, 1, 1, 2, 2, 2)\n",
      "[[[[[[ 0  1]\n",
      "     [ 2  3]]\n",
      "\n",
      "    [[ 4  5]\n",
      "     [ 6  7]]]]]\n",
      "\n",
      "\n",
      "\n",
      "\n",
      " [[[[[ 8  9]\n",
      "     [10 11]]\n",
      "\n",
      "    [[12 13]\n",
      "     [14 15]]]]]\n",
      "\n",
      "\n",
      "\n",
      "\n",
      " [[[[[16 17]\n",
      "     [18 19]]\n",
      "\n",
      "    [[20 21]\n",
      "     [22 23]]]]]]\n"
     ]
    }
   ],
   "source": [
    "n_mat = np.arange(24).reshape(3, 1, 1, 2, 2, 2)\n",
    "print(n_mat.shape)\n",
    "print(n_mat)"
   ]
  },
  {
   "cell_type": "code",
   "execution_count": 24,
   "id": "32d6423c",
   "metadata": {
    "ExecuteTime": {
     "end_time": "2023-01-16T11:36:34.784864Z",
     "start_time": "2023-01-16T11:36:34.771780Z"
    }
   },
   "outputs": [
    {
     "name": "stdout",
     "output_type": "stream",
     "text": [
      "(8, 3)\n",
      "[[ 0  1  2]\n",
      " [ 3  4  5]\n",
      " [ 6  7  8]\n",
      " [ 9 10 11]\n",
      " [12 13 14]\n",
      " [15 16 17]\n",
      " [18 19 20]\n",
      " [21 22 23]]\n",
      "[[[[[[ 0  4]]]\n",
      "\n",
      "\n",
      "   [[[ 1  5]]]]\n",
      "\n",
      "\n",
      "\n",
      "  [[[[ 2  6]]]\n",
      "\n",
      "\n",
      "   [[[ 3  7]]]]]\n",
      "\n",
      "\n",
      "\n",
      "\n",
      " [[[[[ 8 12]]]\n",
      "\n",
      "\n",
      "   [[[ 9 13]]]]\n",
      "\n",
      "\n",
      "\n",
      "  [[[[10 14]]]\n",
      "\n",
      "\n",
      "   [[[11 15]]]]]\n",
      "\n",
      "\n",
      "\n",
      "\n",
      " [[[[[16 20]]]\n",
      "\n",
      "\n",
      "   [[[17 21]]]]\n",
      "\n",
      "\n",
      "\n",
      "  [[[[18 22]]]\n",
      "\n",
      "\n",
      "   [[[19 23]]]]]]\n",
      "(8, 3)\n",
      "[[ 0  4  1]\n",
      " [ 5  2  6]\n",
      " [ 3  7  8]\n",
      " [12  9 13]\n",
      " [10 14 11]\n",
      " [15 16 20]\n",
      " [17 21 18]\n",
      " [22 19 23]]\n"
     ]
    }
   ],
   "source": [
    "n_mat_1 = n_mat.reshape(8,-1)\n",
    "print(n_mat_1.shape)\n",
    "print(n_mat_1)\n",
    "n_mat_2 = n_mat.transpose(0, 4, 5, 1, 2, 3)\n",
    "print(n_mat_2)\n",
    "n_mat_2 = n_mat_2.reshape(8, -1)\n",
    "print(n_mat_2.shape)\n",
    "print(n_mat_2)\n"
   ]
  },
  {
   "cell_type": "code",
   "execution_count": 9,
   "id": "a29b52d1",
   "metadata": {
    "ExecuteTime": {
     "end_time": "2023-01-17T07:57:42.507213Z",
     "start_time": "2023-01-17T07:57:42.488074Z"
    }
   },
   "outputs": [
    {
     "name": "stdout",
     "output_type": "stream",
     "text": [
      "(3, 2, 2)\n",
      "[[[ 0  1]\n",
      "  [ 2  3]]\n",
      "\n",
      " [[ 4  5]\n",
      "  [ 6  7]]\n",
      "\n",
      " [[ 8  9]\n",
      "  [10 11]]]\n",
      "[[ 0  4  8]\n",
      " [ 2  6 10]\n",
      " [ 1  5  9]\n",
      " [ 3  7 11]]\n",
      "[[ 0  1  2]\n",
      " [ 3  4  5]\n",
      " [ 6  7  8]\n",
      " [ 9 10 11]]\n"
     ]
    }
   ],
   "source": [
    "thirdD= np.arange(12).reshape(3, 2, 2)\n",
    "print(thirdD.shape)\n",
    "print(thirdD)\n",
    "print(thirdD.transpose(2, 1, 0).reshape(4, -1))\n",
    "print(thirdD.reshape(4, -1))"
   ]
  },
  {
   "cell_type": "code",
   "execution_count": null,
   "id": "764b2f0d",
   "metadata": {},
   "outputs": [],
   "source": []
  }
 ],
 "metadata": {
  "kernelspec": {
   "display_name": "Python 3 (ipykernel)",
   "language": "python",
   "name": "python3"
  },
  "language_info": {
   "codemirror_mode": {
    "name": "ipython",
    "version": 3
   },
   "file_extension": ".py",
   "mimetype": "text/x-python",
   "name": "python",
   "nbconvert_exporter": "python",
   "pygments_lexer": "ipython3",
   "version": "3.10.8"
  },
  "toc": {
   "base_numbering": 1,
   "nav_menu": {},
   "number_sections": true,
   "sideBar": true,
   "skip_h1_title": false,
   "title_cell": "Table of Contents",
   "title_sidebar": "Contents",
   "toc_cell": false,
   "toc_position": {},
   "toc_section_display": true,
   "toc_window_display": false
  },
  "varInspector": {
   "cols": {
    "lenName": 16,
    "lenType": 16,
    "lenVar": 40
   },
   "kernels_config": {
    "python": {
     "delete_cmd_postfix": "",
     "delete_cmd_prefix": "del ",
     "library": "var_list.py",
     "varRefreshCmd": "print(var_dic_list())"
    },
    "r": {
     "delete_cmd_postfix": ") ",
     "delete_cmd_prefix": "rm(",
     "library": "var_list.r",
     "varRefreshCmd": "cat(var_dic_list()) "
    }
   },
   "types_to_exclude": [
    "module",
    "function",
    "builtin_function_or_method",
    "instance",
    "_Feature"
   ],
   "window_display": false
  }
 },
 "nbformat": 4,
 "nbformat_minor": 5
}
