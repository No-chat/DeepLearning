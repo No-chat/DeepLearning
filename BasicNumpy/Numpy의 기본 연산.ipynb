{
 "cells": [
  {
   "cell_type": "code",
   "execution_count": 1,
   "id": "5f10d5ce",
   "metadata": {
    "ExecuteTime": {
     "end_time": "2023-01-04T10:36:25.109304Z",
     "start_time": "2023-01-04T10:36:24.852305Z"
    }
   },
   "outputs": [],
   "source": [
    "import numpy as np"
   ]
  },
  {
   "cell_type": "code",
   "execution_count": 2,
   "id": "958ae435",
   "metadata": {
    "ExecuteTime": {
     "end_time": "2023-01-04T10:36:30.175119Z",
     "start_time": "2023-01-04T10:36:30.150114Z"
    }
   },
   "outputs": [
    {
     "data": {
      "text/plain": [
       "'\\n1차원 축(행) : axis 0 => Vector\\n2차원 축(열) : axis 1 => Matrix\\n3차원 축(채널) : axis 2 => Tensor(3차원 이상)\\n'"
      ]
     },
     "execution_count": 2,
     "metadata": {},
     "output_type": "execute_result"
    }
   ],
   "source": [
    "# Numpy의 차원\n",
    "\"\"\"\n",
    "1차원 축(행) : axis 0 => Vector\n",
    "2차원 축(열) : axis 1 => Matrix\n",
    "3차원 축(채널) : axis 2 => Tensor(3차원 이상)\n",
    "\"\"\""
   ]
  },
  {
   "cell_type": "code",
   "execution_count": 5,
   "id": "79059892",
   "metadata": {
    "ExecuteTime": {
     "end_time": "2023-01-04T10:36:56.143257Z",
     "start_time": "2023-01-04T10:36:56.133259Z"
    }
   },
   "outputs": [
    {
     "name": "stdout",
     "output_type": "stream",
     "text": [
      "3\n",
      "int32\n",
      "3\n"
     ]
    }
   ],
   "source": [
    "list_data = [1, 2, 3]\n",
    "array = np.array(list_data)\n",
    "print(array.size)tents\n",
    "print(array.dtype)\n",
    "print(array[2])"
   ]
  },
  {
   "cell_type": "code",
   "execution_count": 17,
   "id": "dabb3c05",
   "metadata": {},
   "outputs": [
    {
     "name": "stdout",
     "output_type": "stream",
     "text": [
      "[0 1 2 3]\n",
      "[[0. 0. 0. 0.]\n",
      " [0. 0. 0. 0.]\n",
      " [0. 0. 0. 0.]\n",
      " [0. 0. 0. 0.]]\n",
      "['1' '1' '1']\n"
     ]
    }
   ],
   "source": [
    "# Numpy배열 초기화하기\n",
    "# 0부터 3까지의 배열\n",
    "array1 = np.arange(4) # [0, 1, 2, 3]\n",
    "print(array1)\n",
    "# 배열 내의 모든 원소 0\n",
    "# 배열의 shape과 원소의 type을 지정할 수 있다\n",
    "array2 = np.zeros((4, 4), dtype=float) # 4x4 matrix\n",
    "print(array2)\n",
    "# 배열 내의 모든 원소 1\n",
    "array3 = np.ones((3, ), dtype=str) # 1차원 vector (1x3 matrix와 다름)\n",
    "print(array3)"
   ]
  },
  {
   "cell_type": "code",
   "execution_count": 8,
   "id": "873d8dba",
   "metadata": {
    "ExecuteTime": {
     "end_time": "2023-01-04T10:40:47.315475Z",
     "start_time": "2023-01-04T10:40:47.309322Z"
    }
   },
   "outputs": [
    {
     "name": "stdout",
     "output_type": "stream",
     "text": [
      "[[4 0 4]\n",
      " [9 3 8]\n",
      " [5 7 1]]\n",
      "[[ 0.53950883  0.56300489  0.3826164 ]\n",
      " [-1.27402169 -0.42066608 -0.55664484]\n",
      " [-1.7450106  -0.99145344  1.56455829]]\n"
     ]
    }
   ],
   "source": [
    "# 배열 내 원소 랜덤하게 초기화\n",
    "array4 = np.random.randint(0, 10, (3, 3))\n",
    "print(array4)\n",
    "\n",
    "# 평균이 0이고, 표준편차가 1인 표준 정규를 띄는 배열\n",
    "array5 = np.random.randn(3, 3)\n",
    "print(array5)"
   ]
  },
  {
   "cell_type": "code",
   "execution_count": 12,
   "id": "0d6a6f07",
   "metadata": {
    "ExecuteTime": {
     "end_time": "2023-01-04T10:47:41.121052Z",
     "start_time": "2023-01-04T10:47:41.102080Z"
    }
   },
   "outputs": [
    {
     "name": "stdout",
     "output_type": "stream",
     "text": [
      "[1 2 3 4 5 6]\n"
     ]
    }
   ],
   "source": [
    "# 가로축으로 배열 합치기\n",
    "array1 = np.array([1, 2, 3])\n",
    "array2 = np.array([4, 5, 6])\n",
    "array3 = np.concatenate([array1, array2])\n",
    "print(array3)"
   ]
  },
  {
   "cell_type": "code",
   "execution_count": 13,
   "id": "4db4e967",
   "metadata": {
    "ExecuteTime": {
     "end_time": "2023-01-04T10:50:01.698456Z",
     "start_time": "2023-01-04T10:50:01.690417Z"
    }
   },
   "outputs": [
    {
     "name": "stdout",
     "output_type": "stream",
     "text": [
      "[[1 2]\n",
      " [3 4]]\n"
     ]
    }
   ],
   "source": [
    "# 넘파이 배열 형태 바꾸기 reshape()\n",
    "array1 = np.array([1, 2, 3, 4])\n",
    "array2 = array1.reshape(2, 2)\n",
    "print(array2)"
   ]
  },
  {
   "cell_type": "code",
   "execution_count": 19,
   "id": "2b14c93c",
   "metadata": {
    "ExecuteTime": {
     "end_time": "2023-01-04T10:53:59.966844Z",
     "start_time": "2023-01-04T10:53:59.954886Z"
    }
   },
   "outputs": [
    {
     "name": "stdout",
     "output_type": "stream",
     "text": [
      "[[0 1 2 3]]\n",
      "[[0 1 2 3]\n",
      " [4 5 6 7]]\n",
      "[[0 1 2 3]\n",
      " [0 1 2 3]\n",
      " [4 5 6 7]]\n"
     ]
    }
   ],
   "source": [
    "# 세로축으로 배열 합치기\n",
    "array1 = np.arange(4).reshape(1, 4) # 2차원 배열 1x4형태로 바꿔주기, np.arange(4)와는 엄연히 다른 형태이다\n",
    "array2 = np.arange(8).reshape(2, 4) # 2차원 배열 2x4형태로 바꿔주기\n",
    "print(array1)\n",
    "print(array2)\n",
    "\n",
    "array3 = np.concatenate([array1, array2], axis = 0)\n",
    "print(array3)"
   ]
  },
  {
   "cell_type": "code",
   "execution_count": null,
   "id": "42cb8da9",
   "metadata": {},
   "outputs": [],
   "source": []
  }
 ],
 "metadata": {
  "kernelspec": {
   "display_name": "Python 3 (ipykernel)",
   "language": "python",
   "name": "python3"
  },
  "language_info": {
   "codemirror_mode": {
    "name": "ipython",
    "version": 3
   },
   "file_extension": ".py",
   "mimetype": "text/x-python",
   "name": "python",
   "nbconvert_exporter": "python",
   "pygments_lexer": "ipython3",
   "version": "3.10.8"
  },
  "toc": {
   "base_numbering": 1,
   "nav_menu": {},
   "number_sections": true,
   "sideBar": true,
   "skip_h1_title": false,
   "title_cell": "Table of Contents",
   "title_sidebar": "Contents",
   "toc_cell": false,
   "toc_position": {
    "height": "calc(100% - 180px)",
    "left": "10px",
    "top": "150px",
    "width": "307.2px"
   },
   "toc_section_display": true,
   "toc_window_display": false
  },
  "varInspector": {
   "cols": {
    "lenName": 16,
    "lenType": 16,
    "lenVar": 40
   },
   "kernels_config": {
    "python": {
     "delete_cmd_postfix": "",
     "delete_cmd_prefix": "del ",
     "library": "var_list.py",
     "varRefreshCmd": "print(var_dic_list())"
    },
    "r": {
     "delete_cmd_postfix": ") ",
     "delete_cmd_prefix": "rm(",
     "library": "var_list.r",
     "varRefreshCmd": "cat(var_dic_list()) "
    }
   },
   "types_to_exclude": [
    "module",
    "function",
    "builtin_function_or_method",
    "instance",
    "_Feature"
   ],
   "window_display": false
  }
 },
 "nbformat": 4,
 "nbformat_minor": 5
}
