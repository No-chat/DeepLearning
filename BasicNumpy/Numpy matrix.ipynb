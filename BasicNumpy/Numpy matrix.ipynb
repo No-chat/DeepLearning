{
 "cells": [
  {
   "cell_type": "code",
   "execution_count": 1,
   "id": "2c0fc226",
   "metadata": {
    "ExecuteTime": {
     "end_time": "2023-01-17T10:51:00.911024Z",
     "start_time": "2023-01-17T10:50:59.545378Z"
    }
   },
   "outputs": [],
   "source": [
    "import numpy as np"
   ]
  },
  {
   "cell_type": "markdown",
   "id": "71747039",
   "metadata": {},
   "source": [
    "## numpy basic"
   ]
  },
  {
   "cell_type": "code",
   "execution_count": 18,
   "id": "b18d6a22",
   "metadata": {
    "ExecuteTime": {
     "end_time": "2023-01-17T11:09:48.322305Z",
     "start_time": "2023-01-17T11:09:48.245342Z"
    }
   },
   "outputs": [
    {
     "name": "stdout",
     "output_type": "stream",
     "text": [
      "[[1 2 3]\n",
      " [4 5 6]\n",
      " [7 8 9]]\n",
      "[1 2 3]\n",
      "[[4 5 6]\n",
      " [7 8 9]]\n",
      "3\n",
      "3\n",
      "3\n",
      "[4 5 6]\n",
      "[4 6]\n",
      "[3 6 9]\n",
      "[[False False  True False]\n",
      " [False  True False  True]]\n",
      "[3 3 3]\n",
      "[[  1   2 100   4]\n",
      " [  5 100   7 100]]\n"
     ]
    },
    {
     "data": {
      "text/plain": [
       "array([[1, 2],\n",
       "       [7, 8]])"
      ]
     },
     "execution_count": 18,
     "metadata": {},
     "output_type": "execute_result"
    }
   ],
   "source": [
    "# 행렬의 인덱싱과 슬라이싱\n",
    "A = np.array([[1,2,3], [4,5,6], [7,8,9]])\n",
    "print(A)\n",
    "# 가장 바깥의 리스트를 기준으로 인덱싱을 한다고 생각\n",
    "print(A[0])\n",
    "print(A[1:])\n",
    "\n",
    "print(A[0][2])\n",
    "print(A[0, 2]) # 일반 리스트 타입에서는 허용하지 않는 문법(넘파이에서만 사용)\n",
    "\n",
    "B = [[1,2,3,4], [5,6,7,8]]\n",
    "print(B[0][2])\n",
    "# print(B[0,2]) # Error\n",
    "\n",
    "print(A[1, :]) # [1행, 전부]\n",
    "print(A[1, 0:3:2]) # [1행, 1행의 열에 해당하는 인덱싱]\n",
    "print(A[:, 2]) # [모든 행, 2번째 열]\n",
    "\n",
    "A = np.array([[1,2,3,4], [5,3,7,3]])\n",
    "print(A==3) # 모든 원소에 대해 3과 같은지 비교하고 A와 동일한 사이즈의 행렬을 반환\n",
    "\n",
    "# 마스킹 연산\n",
    "print(A[A==3]) # boolean 행렬로 인덱싱이 가능하다\n",
    "A[A==3] = 100 # A행렬에서 원소가 3인 부분을 100으로 바꿔준다\n",
    "print(A)\n",
    "\n",
    "# 행, 열 인덱싱과 마스킹 연산을 조합\n",
    "A = np.array([[1,2], [3,4], [5,6], [7,8]]) # 4x2 행렬\n",
    "B = np.array([True, False, False, True]) # 4x1 boolean 행렬\n",
    "\n",
    "A[B, :] # A의 행에 대해 B행렬에서 True인 행만 가져옴 => 0행, 3행만 가져온다\n"
   ]
  },
  {
   "cell_type": "code",
   "execution_count": 24,
   "id": "840ce0c5",
   "metadata": {
    "ExecuteTime": {
     "end_time": "2023-01-17T11:16:42.405999Z",
     "start_time": "2023-01-17T11:16:42.378008Z"
    }
   },
   "outputs": [
    {
     "name": "stdout",
     "output_type": "stream",
     "text": [
      "6\n",
      "[[[ 0  1]\n",
      "  [ 8  9]]\n",
      "\n",
      " [[12 13]\n",
      "  [20 21]]]\n"
     ]
    }
   ],
   "source": [
    "# 3차원 행렬의 인덱싱\n",
    "# 대괄호가 하나 늘어나면 shape에서 왼쪽에 추가가 된다\n",
    "A = np.arange(24).reshape(2,3,4) # 3x4행렬이 2층(채널)\n",
    "print(A[0, 1, 2])\n",
    "B = [True, False, True]\n",
    "print(A[:, B, 0:2]) # A의 모든 층에 대해 B에서 True에 해당되는 행에서 0:2까지에 해당하는 열만 가져온다\n"
   ]
  },
  {
   "cell_type": "markdown",
   "id": "9e06122a",
   "metadata": {
    "ExecuteTime": {
     "end_time": "2023-01-17T11:17:41.899371Z",
     "start_time": "2023-01-17T11:17:41.884968Z"
    }
   },
   "source": [
    "## numpy의 여러가지 함수들"
   ]
  },
  {
   "cell_type": "code",
   "execution_count": 27,
   "id": "55cbd78e",
   "metadata": {
    "ExecuteTime": {
     "end_time": "2023-01-17T11:29:04.460624Z",
     "start_time": "2023-01-17T11:29:04.437097Z"
    }
   },
   "outputs": [
    {
     "name": "stdout",
     "output_type": "stream",
     "text": [
      "[]\n"
     ]
    }
   ],
   "source": [
    "A = np.random.randn(3, 3) # 3x3행렬 생성\n",
    "B = np.random.rand(3, 3)\n",
    "# A의 shape과 인덱싱의 의미를 잘 파악하면 됨\n",
    "print(A[ A[:, 0]<0, :]) # A의 각 행의 0번째 열들이 0보다 작은 모든 행들을 가져옴"
   ]
  },
  {
   "cell_type": "code",
   "execution_count": 30,
   "id": "1c5e2c4a",
   "metadata": {
    "ExecuteTime": {
     "end_time": "2023-01-17T11:34:25.021997Z",
     "start_time": "2023-01-17T11:34:24.983996Z"
    }
   },
   "outputs": [
    {
     "name": "stdout",
     "output_type": "stream",
     "text": [
      "[[ 9.03408326e-01 -3.55786212e-01  6.04037002e-01  9.58705182e-01]\n",
      " [-1.27644623e-01 -1.57021347e+00  5.26665457e-01  7.58677168e-04]\n",
      " [-7.05941477e-01 -1.11248990e-01 -7.21254399e-01 -6.04818825e-01]]\n",
      "0.9587051824472539\n",
      "[ 0.90340833 -0.11124899  0.604037    0.95870518]\n",
      "[ 0.95870518  0.52666546 -0.11124899]\n",
      "[[ 0.90340833 -0.11124899  0.604037    0.95870518]]\n",
      "[[ 0.95870518]\n",
      " [ 0.52666546]\n",
      " [-0.11124899]]\n",
      "3\n",
      "[0 2 0 0]\n",
      "[3 2 1]\n"
     ]
    }
   ],
   "source": [
    "A = np.random.randn(3,4)\n",
    "print(A)\n",
    "# 가장 큰 값 반환 np.max()\n",
    "print(np.max(A)) # A의 모든 원소 중 가장 큰 원소 한개 \n",
    "print(np.max(A, axis=0)) # A의 각 행의 원소들끼리 비교 => 총 4개의 결과\n",
    "print(np.max(A, axis=1)) # A의 각 열의 원소들끼리 비교 => 총 3개의 결과\n",
    "print(np.max(A, axis=0, keepdims=True)) # A의 형태를 유지 => 1x4\n",
    "print(np.max(A, axis=1, keepdims=True)) # A의 형태를 유지 => 3x1\n",
    "# 가장 큰 값의 인덱스 반환 np.argmax()\n",
    "print(np.argmax(A)) # A의 원소 중 가장 큰 원소의 인덱스\n",
    "print(np.argmax(A, axis=0)) # A의 각 열에서 가장 큰 원소가 존재하는 인덱스\n",
    "print(np.argmax(A, axis=1)) # A의 각 행에서 가장 큰 원소가 존재하는 인덱스"
   ]
  },
  {
   "cell_type": "code",
   "execution_count": 32,
   "id": "d5254273",
   "metadata": {
    "ExecuteTime": {
     "end_time": "2023-01-17T11:40:17.182029Z",
     "start_time": "2023-01-17T11:40:17.164779Z"
    },
    "scrolled": true
   },
   "outputs": [
    {
     "name": "stdout",
     "output_type": "stream",
     "text": [
      "[[1 1 4 3]\n",
      " [3 1 1 4]\n",
      " [1 4 3 4]]\n",
      "(3, 4)\n",
      "[[[1 1 4]\n",
      "  [3 3 1]]\n",
      "\n",
      " [[1 4 1]\n",
      "  [4 3 4]]]\n"
     ]
    }
   ],
   "source": [
    "# np.reshape => 파이썬은 배열에서 원소들을 무조건 가로로 읽는다(인덱스 부여도 가로먼저)\n",
    "# 가로부터의 의미는 즉, 가장 안쪽의 행부터 차례대로 읽는다라는 의미\n",
    "A = np.random.randint(1, 5, size=(3, 4))\n",
    "print(A)\n",
    "print(A.shape)\n",
    "# A의 0번째 인덱스부터 차례대로 재배열\n",
    "# 재배열 시 가장 낮은 행부터 배열\n",
    "B = A.reshape(2, 2, 3)\n",
    "print(B)\n"
   ]
  },
  {
   "cell_type": "code",
   "execution_count": 35,
   "id": "4f51c0f1",
   "metadata": {
    "ExecuteTime": {
     "end_time": "2023-01-17T11:44:34.118609Z",
     "start_time": "2023-01-17T11:44:34.083466Z"
    }
   },
   "outputs": [
    {
     "name": "stdout",
     "output_type": "stream",
     "text": [
      "[[32]]\n",
      "(4, 3, 2)\n",
      "(2, 3, 4)\n"
     ]
    }
   ],
   "source": [
    "# np.transpose\n",
    "a = np.array([1,2,3])\n",
    "b = np.array([4,5,6])\n",
    "\n",
    "a = a.reshape(3, 1)\n",
    "b = b.reshape(3, 1)\n",
    "print(a.T@b) # a와 b의 내적\n",
    "\n",
    "A = np.random.randn(4, 3, 2)\n",
    "print(A.transpose(0, 1, 2).shape)\n",
    "print(A.transpose(2, 1, 0).shape)"
   ]
  },
  {
   "cell_type": "code",
   "execution_count": 39,
   "id": "a2945979",
   "metadata": {
    "ExecuteTime": {
     "end_time": "2023-01-17T11:51:05.460071Z",
     "start_time": "2023-01-17T11:51:05.429052Z"
    }
   },
   "outputs": [
    {
     "name": "stdout",
     "output_type": "stream",
     "text": [
      "[ 0  1  2  3  4  5  6  7  8  9 10 11 12 13 14 15 16 17 18 19]\n",
      "[[ 0  1  2  3  4]\n",
      " [ 5  6  7  8  9]\n",
      " [10 11 12 13 14]\n",
      " [15 16 17 18 19]]\n",
      "(4, 5)\n",
      "(2, 2, 5)\n",
      "(1, 20)\n",
      "(20, 1)\n"
     ]
    }
   ],
   "source": [
    "A = np.arange(20)\n",
    "print(A)\n",
    "print(A.reshape(4, 5))\n",
    "print(A.reshape(4, -1).shape) # 4개행이 될 수 있도록 열의 수를 알아서 맞춰줌(-1의 역할)\n",
    "print(A.reshape(2, -1, 5).shape) # -1 ==> 2\n",
    "print(A.reshape(1, -1).shape) # => 2차원 행 벡터\n",
    "print(A.reshape(-1, 1).shape) # => 2차원 열 벡터"
   ]
  },
  {
   "cell_type": "code",
   "execution_count": null,
   "id": "20b96756",
   "metadata": {},
   "outputs": [],
   "source": [
    "# 다차원 배열의 인덱싱\n",
    "x  np.random.randn(2,3,4,5,6) # 5차원 배열\n",
    "print(x[1, 2, :, :, :].shape)\n",
    "print(x[1, 2, ...].shape) # 위와 동일"
   ]
  }
 ],
 "metadata": {
  "kernelspec": {
   "display_name": "Python 3 (ipykernel)",
   "language": "python",
   "name": "python3"
  },
  "language_info": {
   "codemirror_mode": {
    "name": "ipython",
    "version": 3
   },
   "file_extension": ".py",
   "mimetype": "text/x-python",
   "name": "python",
   "nbconvert_exporter": "python",
   "pygments_lexer": "ipython3",
   "version": "3.10.8"
  },
  "toc": {
   "base_numbering": 1,
   "nav_menu": {},
   "number_sections": true,
   "sideBar": true,
   "skip_h1_title": false,
   "title_cell": "Table of Contents",
   "title_sidebar": "Contents",
   "toc_cell": false,
   "toc_position": {},
   "toc_section_display": true,
   "toc_window_display": false
  },
  "varInspector": {
   "cols": {
    "lenName": 16,
    "lenType": 16,
    "lenVar": 40
   },
   "kernels_config": {
    "python": {
     "delete_cmd_postfix": "",
     "delete_cmd_prefix": "del ",
     "library": "var_list.py",
     "varRefreshCmd": "print(var_dic_list())"
    },
    "r": {
     "delete_cmd_postfix": ") ",
     "delete_cmd_prefix": "rm(",
     "library": "var_list.r",
     "varRefreshCmd": "cat(var_dic_list()) "
    }
   },
   "types_to_exclude": [
    "module",
    "function",
    "builtin_function_or_method",
    "instance",
    "_Feature"
   ],
   "window_display": false
  }
 },
 "nbformat": 4,
 "nbformat_minor": 5
}
